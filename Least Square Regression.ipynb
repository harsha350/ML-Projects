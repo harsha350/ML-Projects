{
 "cells": [
  {
   "cell_type": "code",
   "execution_count": 1,
   "metadata": {},
   "outputs": [],
   "source": [
    "import pandas as pd\n",
    "import numpy as np\n",
    "import scipy as sc\n",
    "import random"
   ]
  },
  {
   "cell_type": "code",
   "execution_count": 2,
   "metadata": {},
   "outputs": [
    {
     "data": {
      "text/html": [
       "<div>\n",
       "<style scoped>\n",
       "    .dataframe tbody tr th:only-of-type {\n",
       "        vertical-align: middle;\n",
       "    }\n",
       "\n",
       "    .dataframe tbody tr th {\n",
       "        vertical-align: top;\n",
       "    }\n",
       "\n",
       "    .dataframe thead th {\n",
       "        text-align: right;\n",
       "    }\n",
       "</style>\n",
       "<table border=\"1\" class=\"dataframe\">\n",
       "  <thead>\n",
       "    <tr style=\"text-align: right;\">\n",
       "      <th></th>\n",
       "      <th>Aggri</th>\n",
       "      <th>Sales</th>\n",
       "      <th>num</th>\n",
       "    </tr>\n",
       "  </thead>\n",
       "  <tbody>\n",
       "    <tr>\n",
       "      <th>0</th>\n",
       "      <td>Farmer1</td>\n",
       "      <td>4</td>\n",
       "      <td>0</td>\n",
       "    </tr>\n",
       "    <tr>\n",
       "      <th>1</th>\n",
       "      <td>Village2</td>\n",
       "      <td>12</td>\n",
       "      <td>1</td>\n",
       "    </tr>\n",
       "    <tr>\n",
       "      <th>2</th>\n",
       "      <td>Town3</td>\n",
       "      <td>28</td>\n",
       "      <td>2</td>\n",
       "    </tr>\n",
       "    <tr>\n",
       "      <th>3</th>\n",
       "      <td>City4</td>\n",
       "      <td>52</td>\n",
       "      <td>3</td>\n",
       "    </tr>\n",
       "    <tr>\n",
       "      <th>4</th>\n",
       "      <td>Downtown5</td>\n",
       "      <td>80</td>\n",
       "      <td>4</td>\n",
       "    </tr>\n",
       "  </tbody>\n",
       "</table>\n",
       "</div>"
      ],
      "text/plain": [
       "       Aggri  Sales  num\n",
       "0    Farmer1      4    0\n",
       "1   Village2     12    1\n",
       "2      Town3     28    2\n",
       "3      City4     52    3\n",
       "4  Downtown5     80    4"
      ]
     },
     "execution_count": 2,
     "metadata": {},
     "output_type": "execute_result"
    }
   ],
   "source": [
    "data = pd.DataFrame({'Aggri':['Farmer1','Village2','Town3','City4','Downtown5'], 'num': range(5),\n",
    "                  'Sales': [4,12,28,52,80]})\n",
    "data"
   ]
  },
  {
   "cell_type": "code",
   "execution_count": 3,
   "metadata": {},
   "outputs": [
    {
     "data": {
      "text/plain": [
       "5"
      ]
     },
     "execution_count": 3,
     "metadata": {},
     "output_type": "execute_result"
    }
   ],
   "source": [
    "len(data['num'])"
   ]
  },
  {
   "cell_type": "markdown",
   "metadata": {},
   "source": [
    "## Equation of Straight Line"
   ]
  },
  {
   "cell_type": "code",
   "execution_count": 4,
   "metadata": {},
   "outputs": [],
   "source": [
    "(x1, y1) = (1,4)\n",
    "(x2, y2) = (5,80)\n",
    "# given (x1,x2)= (1,4) and (y1,y2) = (5,80)\n",
    "# m = Change in Y / Change in X\n"
   ]
  },
  {
   "cell_type": "code",
   "execution_count": 5,
   "metadata": {},
   "outputs": [
    {
     "data": {
      "text/plain": [
       "19.0"
      ]
     },
     "execution_count": 5,
     "metadata": {},
     "output_type": "execute_result"
    }
   ],
   "source": [
    "def line(x1 = 1, x2 = 5, y1 = 4, y2 = 80):\n",
    "    m = (y2-y1)/(x2-x1)\n",
    "    return m\n",
    "line()\n",
    "#calculated we got b = -15\n",
    "#given m = 19, b = -15, x = range(5) we need to calculate y"
   ]
  },
  {
   "cell_type": "code",
   "execution_count": 6,
   "metadata": {},
   "outputs": [],
   "source": [
    "# equation of line y = mx+b\n",
    "line = []\n",
    "def line_y(m =19, b = -15):\n",
    "    x = range(1,6)\n",
    "\n",
    "    for row in x:\n",
    "        line.append((m*row)+b)\n",
    "line_y()"
   ]
  },
  {
   "cell_type": "markdown",
   "metadata": {},
   "source": [
    "## Least Square Regression\n",
    "\n",
    "Equation of Straight Line (y = mx + b)"
   ]
  },
  {
   "cell_type": "code",
   "execution_count": 7,
   "metadata": {},
   "outputs": [],
   "source": [
    "class LSR:\n",
    "    def __init__(self, mean1 = data['num'], xmean = data['num']/len(data['num']), mean2 = data['Sales'], ymean = data['Sales']/len(data['Sales'])):\n",
    "        self.mean1 = mean1\n",
    "        self.xmean = np.sum(xmean)\n",
    "        self.xxmean = (self.mean1-self.xmean)\n",
    "        \n",
    "        self.mean2 = mean2\n",
    "        self.ymean = np.sum(ymean)\n",
    "        self.yymean = (self.mean2-self.ymean)\n",
    "        \n",
    "        self.sum_nume = np.sum(self.xxmean * self.yymean)\n",
    "        \n",
    "        #Now lets calculate denominator part of the equation Sum of (x — xmean)**2\n",
    "        \n",
    "        self.sum_deno = np.sum(self.xxmean**2)\n",
    "        \n",
    "        #Overall calculation would be  m = sum of ALL(x-xmean)*(y-ymean)/ sum of (x-xmean)**2\n",
    "        \n",
    "        self.m = self.sum_nume/self.sum_deno\n",
    "        \n",
    "        self.totalcalculation = (np.sum(self.ymean) - (self.m*np.sum(self.xmean)))\n",
    "        \n",
    "# The overall formula can now be written in the form of y = mx + b as\n",
    "        \n",
    "    def b(self):\n",
    "        return ((self.m*self.mean1) + self.totalcalculation)"
   ]
  },
  {
   "cell_type": "code",
   "execution_count": 9,
   "metadata": {},
   "outputs": [
    {
     "name": "stdout",
     "output_type": "stream",
     "text": [
      "192.0\n",
      "10.0\n",
      "==================================================\n",
      "-3.1999999999999957\n",
      "0    -3.2\n",
      "1    16.0\n",
      "2    35.2\n",
      "3    54.4\n",
      "4    73.6\n",
      "Name: num, dtype: float64\n"
     ]
    }
   ],
   "source": [
    "test = LSR()\n",
    "# print test.xxmean\n",
    "# print '='*50\n",
    "# print test.yymean\n",
    "\n",
    "print(test.sum_nume)\n",
    "print(test.sum_deno)\n",
    "print('='*50)\n",
    "print(test.totalcalculation)\n",
    "print(test.b())"
   ]
  },
  {
   "cell_type": "code",
   "execution_count": 12,
   "metadata": {},
   "outputs": [
    {
     "data": {
      "image/png": "[encoded data removed]",
      "text/plain": [
       "<matplotlib.figure.Figure at 0x20f7a8cae10>"
      ]
     },
     "metadata": {},
     "output_type": "display_data"
    }
   ],
   "source": [
    "from matplotlib import pyplot as plt\n",
    "plt.plot(data.num, line)\n",
    "plt.plot(data.num, data.Sales)\n",
    "plt.plot(data.num, test.b())\n",
    "\n",
    "plt.ylabel('Sales')\n",
    "plt.show()"
   ]
  },
  {
   "cell_type": "code",
   "execution_count": 13,
   "metadata": {},
   "outputs": [
    {
     "name": "stdout",
     "output_type": "stream",
     "text": [
      "   Error  Line_predicted  SquareError  x-Axis  y-Axis\n",
      "0      0               4            0       0       4\n",
      "1    -11              23          121       1      12\n",
      "2    -14              42          196       2      28\n",
      "3     -9              61           81       3      52\n",
      "4      0              80            0       4      80\n",
      "==================================================\n",
      "MSE of Line 398\n"
     ]
    }
   ],
   "source": [
    "line_eq = pd.DataFrame({'x-Axis':data.num, 'y-Axis':data.Sales, 'Line_predicted':line,'Error':data.Sales-line, 'SquareError':(data.Sales-line)**2})\n",
    "print(line_eq)\n",
    "print('='*50)\n",
    "print(\"MSE of Line\", np.sum(line_eq.SquareError))"
   ]
  },
  {
   "cell_type": "code",
   "execution_count": 14,
   "metadata": {},
   "outputs": [
    {
     "name": "stdout",
     "output_type": "stream",
     "text": [
      "   Error  Least_Square  SquareError  x-Axis  y-Axis\n",
      "0    7.2          -3.2        51.84       0       4\n",
      "1   -4.0          16.0        16.00       1      12\n",
      "2   -7.2          35.2        51.84       2      28\n",
      "3   -2.4          54.4         5.76       3      52\n",
      "4    6.4          73.6        40.96       4      80\n",
      "==================================================\n",
      "MSE of Least Square 166.40000000000006\n"
     ]
    }
   ],
   "source": [
    "Least_square = pd.DataFrame({'x-Axis':data.num, 'y-Axis':data.Sales, 'Least_Square':test.b(),'Error':data.Sales-test.b(), 'SquareError':(data.Sales-test.b())**2})\n",
    "print(Least_square)\n",
    "print('='*50)\n",
    "print(\"MSE of Least Square\", np.sum(Least_square.SquareError))"
   ]
  },
  {
   "cell_type": "markdown",
   "metadata": {},
   "source": [
    "As we can see that Least Square Method provide better results than a plain straight line between two points calculation"
   ]
  },
  {
   "cell_type": "markdown",
   "metadata": {},
   "source": [
    "Ordinary Least Square method looks simple and computation is easy. But, this OLS method will only work for a univariate dataset which is single independent variables and single dependent variables. Multi-variate dataset contains a single independent variables set and multiple dependent variables sets, require us to use a machine learning algorithm called “Gradient Descent”."
   ]
  },
  {
   "cell_type": "markdown",
   "metadata": {},
   "source": [
    "## Approach 2"
   ]
  },
  {
   "cell_type": "code",
   "execution_count": 16,
   "metadata": {},
   "outputs": [
    {
     "name": "stdout",
     "output_type": "stream",
     "text": [
      "19.2 -3.1999999999999957\n"
     ]
    }
   ],
   "source": [
    "X_mean = np.mean(data.num)\n",
    "Y_mean = np.mean(data.Sales)\n",
    "\n",
    "num = 0\n",
    "den = 0\n",
    "for i in range(len(data.num)):\n",
    "    num += (data.num[i] - X_mean)*(data.Sales[i] - Y_mean)\n",
    "    den += (data.num[i] - X_mean)**2\n",
    "m = num / den\n",
    "c = Y_mean - m*X_mean\n",
    "\n",
    "print (m, c)"
   ]
  },
  {
   "cell_type": "code",
   "execution_count": 18,
   "metadata": {},
   "outputs": [
    {
     "data": {
      "image/png": "[encoded data removed]",
      "text/plain": [
       "<matplotlib.figure.Figure at 0x20f7ae0a9e8>"
      ]
     },
     "metadata": {},
     "output_type": "display_data"
    }
   ],
   "source": [
    "Y_pred = m*data.num + c\n",
    "\n",
    "plt.plot(data.num, data.Sales) # actual\n",
    "plt.plot(data.num, Y_pred, color='red')\n",
    "# plt.plot([min(data.X), max(data.X)], [min(Y_pred), max(Y_pred)], color='red') # predicted\n",
    "plt.show()"
   ]
  },
  {
   "cell_type": "code",
   "execution_count": null,
   "metadata": {},
   "outputs": [],
   "source": []
  }
 ],
 "metadata": {
  "kernelspec": {
   "display_name": "Python 3",
   "language": "python",
   "name": "python3"
  },
  "language_info": {
   "codemirror_mode": {
    "name": "ipython",
    "version": 3
   },
   "file_extension": ".py",
   "mimetype": "text/x-python",
   "name": "python",
   "nbconvert_exporter": "python",
   "pygments_lexer": "ipython3",
   "version": "3.6.4"
  }
 },
 "nbformat": 4,
 "nbformat_minor": 2
}
